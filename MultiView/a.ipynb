{
 "cells": [
  {
   "cell_type": "code",
   "execution_count": 5,
   "id": "131ff652-810f-4311-b2eb-18fb04a6517f",
   "metadata": {},
   "outputs": [
    {
     "name": "stdout",
     "output_type": "stream",
     "text": [
      "a\n"
     ]
    },
    {
     "ename": "NameError",
     "evalue": "name 'eigh' is not defined",
     "output_type": "error",
     "traceback": [
      "\u001b[1;31m---------------------------------------------------------------------------\u001b[0m",
      "\u001b[1;31mNameError\u001b[0m                                 Traceback (most recent call last)",
      "Cell \u001b[1;32mIn[5], line 28\u001b[0m\n\u001b[0;32m     24\u001b[0m     Plot(theta, c_list, f0, x_list, y_list)            \n\u001b[0;32m     27\u001b[0m \u001b[38;5;28;01mif\u001b[39;00m \u001b[38;5;18m__name__\u001b[39m \u001b[38;5;241m==\u001b[39m \u001b[38;5;124m\"\u001b[39m\u001b[38;5;124m__main__\u001b[39m\u001b[38;5;124m\"\u001b[39m:\n\u001b[1;32m---> 28\u001b[0m     \u001b[43mmain\u001b[49m\u001b[43m(\u001b[49m\u001b[43m)\u001b[49m\n",
      "Cell \u001b[1;32mIn[5], line 19\u001b[0m, in \u001b[0;36mmain\u001b[1;34m()\u001b[0m\n\u001b[0;32m     16\u001b[0m \u001b[38;5;28;01massert\u001b[39;00m N \u001b[38;5;241m==\u001b[39m y_list\u001b[38;5;241m.\u001b[39mshape[\u001b[38;5;241m0\u001b[39m]\n\u001b[0;32m     18\u001b[0m reg \u001b[38;5;241m=\u001b[39m Ransac(model\u001b[38;5;241m=\u001b[39mFNSEllipRegressor(MaxIter, ConvEPS, f0), n\u001b[38;5;241m=\u001b[39mN, t\u001b[38;5;241m=\u001b[39m\u001b[38;5;241m1.0\u001b[39m, d\u001b[38;5;241m=\u001b[39mN\u001b[38;5;241m/\u001b[39m\u001b[38;5;241m3\u001b[39m, k\u001b[38;5;241m=\u001b[39m\u001b[38;5;241m300\u001b[39m)\n\u001b[1;32m---> 19\u001b[0m \u001b[43mreg\u001b[49m\u001b[38;5;241;43m.\u001b[39;49m\u001b[43mfit\u001b[49m\u001b[43m(\u001b[49m\u001b[43mx_list\u001b[49m\u001b[43m,\u001b[49m\u001b[43m \u001b[49m\u001b[43my_list\u001b[49m\u001b[43m)\u001b[49m\n\u001b[0;32m     21\u001b[0m theta \u001b[38;5;241m=\u001b[39m reg\u001b[38;5;241m.\u001b[39mget_theta()\n\u001b[0;32m     22\u001b[0m c_list \u001b[38;5;241m=\u001b[39m reg\u001b[38;5;241m.\u001b[39mget_c_list()\n",
      "File \u001b[1;32mC:\\work\\projects\\MultiView\\Ransac.py:47\u001b[0m, in \u001b[0;36mRansac.fit\u001b[1;34m(self, X, Y)\u001b[0m\n\u001b[0;32m     44\u001b[0m ids \u001b[38;5;241m=\u001b[39m rng\u001b[38;5;241m.\u001b[39mpermutation(X\u001b[38;5;241m.\u001b[39mshape[\u001b[38;5;241m0\u001b[39m])\n\u001b[0;32m     46\u001b[0m maybe_inliers \u001b[38;5;241m=\u001b[39m ids[: \u001b[38;5;28mself\u001b[39m\u001b[38;5;241m.\u001b[39mn]\n\u001b[1;32m---> 47\u001b[0m maybe_model \u001b[38;5;241m=\u001b[39m \u001b[43mcopy\u001b[49m\u001b[43m(\u001b[49m\u001b[38;5;28;43mself\u001b[39;49m\u001b[38;5;241;43m.\u001b[39;49m\u001b[43mmodel\u001b[49m\u001b[43m)\u001b[49m\u001b[38;5;241;43m.\u001b[39;49m\u001b[43mfit\u001b[49m\u001b[43m(\u001b[49m\u001b[43mX\u001b[49m\u001b[43m[\u001b[49m\u001b[43mmaybe_inliers\u001b[49m\u001b[43m]\u001b[49m\u001b[43m,\u001b[49m\u001b[43m \u001b[49m\u001b[43mY\u001b[49m\u001b[43m[\u001b[49m\u001b[43mmaybe_inliers\u001b[49m\u001b[43m]\u001b[49m\u001b[43m)\u001b[49m\n\u001b[0;32m     49\u001b[0m loss_list \u001b[38;5;241m=\u001b[39m maybe_model\u001b[38;5;241m.\u001b[39mcalc_loss(X[ids][\u001b[38;5;28mself\u001b[39m\u001b[38;5;241m.\u001b[39mn :], Y[ids][\u001b[38;5;28mself\u001b[39m\u001b[38;5;241m.\u001b[39mn :])\n\u001b[0;32m     51\u001b[0m thresholded \u001b[38;5;241m=\u001b[39m (\n\u001b[0;32m     52\u001b[0m     loss_list \u001b[38;5;241m<\u001b[39m \u001b[38;5;28mself\u001b[39m\u001b[38;5;241m.\u001b[39mt\n\u001b[0;32m     53\u001b[0m )\n",
      "File \u001b[1;32mC:\\work\\projects\\MultiView\\FNSEllipRegressor.py:21\u001b[0m, in \u001b[0;36mFNSEllipRegressor.fit\u001b[1;34m(self, x_list, y_list)\u001b[0m\n\u001b[0;32m     20\u001b[0m \u001b[38;5;28;01mdef\u001b[39;00m \u001b[38;5;21mfit\u001b[39m(\u001b[38;5;28mself\u001b[39m, x_list: np\u001b[38;5;241m.\u001b[39mndarray, y_list: np\u001b[38;5;241m.\u001b[39mndarray):\n\u001b[1;32m---> 21\u001b[0m     \u001b[38;5;28mself\u001b[39m\u001b[38;5;241m.\u001b[39mtheta, \u001b[38;5;28mself\u001b[39m\u001b[38;5;241m.\u001b[39mw_list \u001b[38;5;241m=\u001b[39m \u001b[38;5;28;43mself\u001b[39;49m\u001b[38;5;241;43m.\u001b[39;49m\u001b[43mFNS\u001b[49m\u001b[43m(\u001b[49m\u001b[43mx_list\u001b[49m\u001b[43m,\u001b[49m\u001b[43m \u001b[49m\u001b[43my_list\u001b[49m\u001b[43m)\u001b[49m\n\u001b[0;32m     22\u001b[0m     \u001b[38;5;28;01mreturn\u001b[39;00m \u001b[38;5;28mself\u001b[39m\n",
      "File \u001b[1;32mC:\\work\\projects\\MultiView\\FNSEllipRegressor.py:75\u001b[0m, in \u001b[0;36mFNSEllipRegressor.FNS\u001b[1;34m(self, x_list, y_list)\u001b[0m\n\u001b[0;32m     72\u001b[0m X \u001b[38;5;241m=\u001b[39m M \u001b[38;5;241m-\u001b[39m L\n\u001b[0;32m     74\u001b[0m \u001b[38;5;66;03m# Xの固有ベクトルthetaを得る。\u001b[39;00m\n\u001b[1;32m---> 75\u001b[0m _, eig_vec\u001b[38;5;241m=\u001b[39m\u001b[43meigh\u001b[49m(X)\n\u001b[0;32m     76\u001b[0m theta \u001b[38;5;241m=\u001b[39m eig_vec[:, \u001b[38;5;241m0\u001b[39m]\u001b[38;5;241m.\u001b[39mreshape(\u001b[38;5;241m6\u001b[39m)\n\u001b[0;32m     77\u001b[0m theta \u001b[38;5;241m=\u001b[39m np\u001b[38;5;241m.\u001b[39mvstack(theta)\n",
      "\u001b[1;31mNameError\u001b[0m: name 'eigh' is not defined"
     ]
    }
   ],
   "source": [
    "from Common import ReadPointXY3, Plot\n",
    "from Ransac import Ransac\n",
    "from FNSEllipRegressor import FNSEllipRegressor\n",
    "import matplotlib.pyplot as plt\n",
    "import csv\n",
    "import numpy as np\n",
    "from numpy.linalg import eigh\n",
    "import math\n",
    "from Common import ReadPointXY3, Plot, BuildXi, BuildV0, BuildM, BuildL\n",
    "\n",
    "def main():\n",
    "    f0=1\n",
    "    MaxIter=100\n",
    "    ConvEPS=1e-5\n",
    "    N=6 # smallest point count to get ellipsis params\n",
    "\n",
    "    print(\"a\")\n",
    "\n",
    "    x_list, y_list = ReadPointXY3('pointXY2.csv')\n",
    "    N=x_list.shape[0]\n",
    "    assert N == y_list.shape[0]\n",
    "\n",
    "    reg = Ransac(model=FNSEllipRegressor(MaxIter, ConvEPS, f0), n=N, t=1.0, d=N/3, k=300)\n",
    "    reg.fit(x_list, y_list)\n",
    "\n",
    "    theta = reg.get_theta()\n",
    "    c_list = reg.get_c_list()\n",
    "\n",
    "    Plot(theta, c_list, f0, x_list, y_list)            \n",
    "\n",
    "\n",
    "if __name__ == \"__main__\":\n",
    "    main()"
   ]
  },
  {
   "cell_type": "code",
   "execution_count": null,
   "id": "08cd0580-f3aa-4f73-8b7e-19cd05ef8e3c",
   "metadata": {},
   "outputs": [],
   "source": []
  },
  {
   "cell_type": "code",
   "execution_count": null,
   "id": "b85cfa71-ea23-411a-bc0d-bbd1410e658b",
   "metadata": {},
   "outputs": [],
   "source": []
  },
  {
   "cell_type": "code",
   "execution_count": null,
   "id": "cd92643d-c583-469f-ae91-05cbcb196651",
   "metadata": {},
   "outputs": [],
   "source": []
  },
  {
   "cell_type": "code",
   "execution_count": null,
   "id": "17c2ca88-3f47-4a4f-884c-1aa34432e08e",
   "metadata": {},
   "outputs": [],
   "source": []
  }
 ],
 "metadata": {
  "kernelspec": {
   "display_name": "Python 3 (ipykernel)",
   "language": "python",
   "name": "python3"
  },
  "language_info": {
   "codemirror_mode": {
    "name": "ipython",
    "version": 3
   },
   "file_extension": ".py",
   "mimetype": "text/x-python",
   "name": "python",
   "nbconvert_exporter": "python",
   "pygments_lexer": "ipython3",
   "version": "3.10.14"
  }
 },
 "nbformat": 4,
 "nbformat_minor": 5
}
