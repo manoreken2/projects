{
 "cells": [
  {
   "cell_type": "code",
   "execution_count": 1,
   "id": "131ff652-810f-4311-b2eb-18fb04a6517f",
   "metadata": {},
   "outputs": [
    {
     "ename": "NameError",
     "evalue": "name 'np' is not defined",
     "output_type": "error",
     "traceback": [
      "\u001b[1;31m---------------------------------------------------------------------------\u001b[0m",
      "\u001b[1;31mNameError\u001b[0m                                 Traceback (most recent call last)",
      "Cell \u001b[1;32mIn[1], line 3\u001b[0m\n\u001b[0;32m      1\u001b[0m \u001b[38;5;28;01mfrom\u001b[39;00m \u001b[38;5;21;01mCommon\u001b[39;00m \u001b[38;5;28;01mimport\u001b[39;00m ReadPointXY3, Plot\n\u001b[0;32m      2\u001b[0m \u001b[38;5;28;01mfrom\u001b[39;00m \u001b[38;5;21;01mRansac\u001b[39;00m \u001b[38;5;28;01mimport\u001b[39;00m Ransac\n\u001b[1;32m----> 3\u001b[0m \u001b[38;5;28;01mfrom\u001b[39;00m \u001b[38;5;21;01mFNSEllipRegressor\u001b[39;00m \u001b[38;5;28;01mimport\u001b[39;00m FNSEllipRegressor\n\u001b[0;32m      6\u001b[0m \u001b[38;5;28;01mdef\u001b[39;00m \u001b[38;5;21mmain\u001b[39m():\n\u001b[0;32m      7\u001b[0m     f0\u001b[38;5;241m=\u001b[39m\u001b[38;5;241m1\u001b[39m\n",
      "File \u001b[1;32mC:\\work\\projects\\MultiView\\FNSEllipRegressor.py:5\u001b[0m\n\u001b[0;32m      1\u001b[0m \u001b[38;5;28;01mfrom\u001b[39;00m \u001b[38;5;21;01mCommon\u001b[39;00m \u001b[38;5;28;01mimport\u001b[39;00m ReadPointXY3, Plot, BuildXi, BuildV0, BuildM, BuildL\n\u001b[0;32m      2\u001b[0m \u001b[38;5;28;01mfrom\u001b[39;00m \u001b[38;5;21;01mRansac\u001b[39;00m \u001b[38;5;28;01mimport\u001b[39;00m Ransac, RegresserBase\n\u001b[1;32m----> 5\u001b[0m \u001b[38;5;28;01mclass\u001b[39;00m \u001b[38;5;21;01mFNSEllipRegressor\u001b[39;00m(RegresserBase):\n\u001b[0;32m      6\u001b[0m     \u001b[38;5;28;01mdef\u001b[39;00m \u001b[38;5;21m__init__\u001b[39m(\u001b[38;5;28mself\u001b[39m, MaxIter, ConvEPS, f0):\n\u001b[0;32m      7\u001b[0m         \u001b[38;5;28mself\u001b[39m\u001b[38;5;241m.\u001b[39mev \u001b[38;5;241m=\u001b[39m \u001b[38;5;28;01mNone\u001b[39;00m\n",
      "File \u001b[1;32mC:\\work\\projects\\MultiView\\FNSEllipRegressor.py:20\u001b[0m, in \u001b[0;36mFNSEllipRegressor\u001b[1;34m()\u001b[0m\n\u001b[0;32m     17\u001b[0m \u001b[38;5;28;01mdef\u001b[39;00m \u001b[38;5;21mget_w_list\u001b[39m(\u001b[38;5;28mself\u001b[39m):\n\u001b[0;32m     18\u001b[0m     \u001b[38;5;28;01mreturn\u001b[39;00m \u001b[38;5;28mself\u001b[39m\u001b[38;5;241m.\u001b[39mw_list\n\u001b[1;32m---> 20\u001b[0m \u001b[38;5;28;01mdef\u001b[39;00m \u001b[38;5;21mfit\u001b[39m(\u001b[38;5;28mself\u001b[39m, x_list: \u001b[43mnp\u001b[49m\u001b[38;5;241m.\u001b[39mndarray, y_list: np\u001b[38;5;241m.\u001b[39mndarray):\n\u001b[0;32m     21\u001b[0m     \u001b[38;5;28mself\u001b[39m\u001b[38;5;241m.\u001b[39mtheta, \u001b[38;5;28mself\u001b[39m\u001b[38;5;241m.\u001b[39mw_list \u001b[38;5;241m=\u001b[39m \u001b[38;5;28mself\u001b[39m\u001b[38;5;241m.\u001b[39mFNS(x_list, y_list)\n\u001b[0;32m     22\u001b[0m     \u001b[38;5;28;01mreturn\u001b[39;00m \u001b[38;5;28mself\u001b[39m\n",
      "\u001b[1;31mNameError\u001b[0m: name 'np' is not defined"
     ]
    }
   ],
   "source": [
    "from Common import ReadPointXY3, Plot\n",
    "from Ransac import Ransac\n",
    "from FNSEllipRegressor import FNSEllipRegressor\n",
    "\n",
    "\n",
    "def main():\n",
    "    f0=1\n",
    "    MaxIter=100\n",
    "    ConvEPS=1e-5\n",
    "    N=6 # smallest point count to get ellipsis params\n",
    "\n",
    "    print(\"a\")\n",
    "\n",
    "    x_list, y_list = ReadPointXY3('pointXY2.csv')\n",
    "    N=x_list.shape[0]\n",
    "    assert N == y_list.shape[0]\n",
    "\n",
    "    reg = Ransac(model=FNSEllipRegressor(MaxIter, ConvEPS, f0), n=N, t=1.0, d=N/3, k=300)\n",
    "    reg.fit(x_list, y_list)\n",
    "\n",
    "    theta = reg.get_theta()\n",
    "    c_list = reg.get_c_list()\n",
    "\n",
    "    Plot(theta, c_list, f0, x_list, y_list)            \n",
    "\n",
    "\n",
    "if __name__ == \"__main__\":\n",
    "    main()"
   ]
  },
  {
   "cell_type": "code",
   "execution_count": null,
   "id": "08cd0580-f3aa-4f73-8b7e-19cd05ef8e3c",
   "metadata": {},
   "outputs": [],
   "source": []
  }
 ],
 "metadata": {
  "kernelspec": {
   "display_name": "Python 3 (ipykernel)",
   "language": "python",
   "name": "python3"
  },
  "language_info": {
   "codemirror_mode": {
    "name": "ipython",
    "version": 3
   },
   "file_extension": ".py",
   "mimetype": "text/x-python",
   "name": "python",
   "nbconvert_exporter": "python",
   "pygments_lexer": "ipython3",
   "version": "3.10.14"
  }
 },
 "nbformat": 4,
 "nbformat_minor": 5
}
