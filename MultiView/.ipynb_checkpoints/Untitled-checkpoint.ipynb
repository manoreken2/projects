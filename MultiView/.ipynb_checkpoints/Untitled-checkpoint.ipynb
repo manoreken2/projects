{
 "cells": [
  {
   "cell_type": "code",
   "execution_count": null,
   "id": "131ff652-810f-4311-b2eb-18fb04a6517f",
   "metadata": {},
   "outputs": [],
   "source": []
  }
 ],
 "metadata": {
  "kernelspec": {
   "display_name": "",
   "name": ""
  },
  "language_info": {
   "name": ""
  }
 },
 "nbformat": 4,
 "nbformat_minor": 5
}
